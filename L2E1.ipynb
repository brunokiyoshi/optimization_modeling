{
 "cells": [
  {
   "cell_type": "markdown",
   "metadata": {},
   "source": [
    "# Assignment 2 - Exercise 1\n",
    "Bruno Kiyoshi Ynumaru - 201805995"
   ]
  },
  {
   "cell_type": "markdown",
   "metadata": {},
   "source": [
    "Duas máquinas produzem conjuntamente dois produtos. Cada unidade do primeiro produto requer 3\n",
    "horas da máquina 1 e 2 horas da máquina 2. Cada unidade do segundo produto requer 2 horas da\n",
    "máquina 1 e 3 horas da máquina 2. A máquina 1 está disponível por 8 horas diárias e a máquina\n",
    "2 apenas 7 horas diárias. O lucro por unidade vendida á 16 unidades monetárias para o primeiro\n",
    "produto e 10 para o segundo. Ambos os produtos possuem restrição quanto à produção parcial: a\n",
    "quantidade de cada produto produzido por dia precisa ser um múltiplo inteiro de 0.25. Formule um\n",
    "modelo matemático com o objetivo de determinar a quantidade de cada produto a ser produzido por\n",
    "dia que maximize o lucro."
   ]
  },
  {
   "cell_type": "code",
   "execution_count": 1,
   "metadata": {},
   "outputs": [],
   "source": [
    "import gurobipy as gp\n",
    "from gurobipy import GRB, Model"
   ]
  },
  {
   "cell_type": "code",
   "execution_count": 2,
   "metadata": {},
   "outputs": [
    {
     "name": "stdout",
     "output_type": "stream",
     "text": [
      "Restricted license - for non-production use only - expires 2022-01-13\n"
     ]
    }
   ],
   "source": [
    "# Create a new model\n",
    "m = Model(\"Wyndor_Glass\")"
   ]
  },
  {
   "cell_type": "code",
   "execution_count": 4,
   "metadata": {},
   "outputs": [],
   "source": [
    "# Create variables\n",
    "u1 = m.addVar(lb=0, vtype=GRB.INTEGER, name=\"u1\") # lots of product 1\n",
    "u2 = m.addVar(lb=0, vtype=GRB.INTEGER, name=\"u2\") # lots of product 2"
   ]
  },
  {
   "cell_type": "code",
   "execution_count": 5,
   "metadata": {},
   "outputs": [],
   "source": [
    "# Set objective\n",
    "stdlot = 0.25 # standard lot [units of product / lot]\n",
    "r1 = 16 * stdlot # revenue per lot of product 1\n",
    "r2 = 10 * stdlot# revenue per lot of product 2\n",
    "m.setObjective(r1 * u1 + r2 * u2, GRB.MAXIMIZE)"
   ]
  },
  {
   "cell_type": "code",
   "execution_count": 6,
   "metadata": {},
   "outputs": [
    {
     "name": "stdout",
     "output_type": "stream",
     "text": [
      "Gurobi Optimizer version 9.1.1 build v9.1.1rc0 (win64)\n",
      "Thread count: 2 physical cores, 4 logical processors, using up to 4 threads\n",
      "Optimize a model with 2 rows, 2 columns and 4 nonzeros\n",
      "Model fingerprint: 0x9b62e511\n",
      "Variable types: 0 continuous, 2 integer (0 binary)\n",
      "Coefficient statistics:\n",
      "  Matrix range     [5e-01, 8e-01]\n",
      "  Objective range  [3e+00, 4e+00]\n",
      "  Bounds range     [0e+00, 0e+00]\n",
      "  RHS range        [7e+00, 8e+00]\n",
      "Found heuristic solution: objective 42.5000000\n",
      "Presolve time: 0.02s\n",
      "Presolved: 2 rows, 2 columns, 4 nonzeros\n",
      "Variable types: 0 continuous, 2 integer (0 binary)\n",
      "\n",
      "Root relaxation: cutoff, 0 iterations, 0.00 seconds\n",
      "\n",
      "Explored 0 nodes (0 simplex iterations) in 0.06 seconds\n",
      "Thread count was 4 (of 4 available processors)\n",
      "\n",
      "Solution count 1: 42.5 \n",
      "\n",
      "Optimal solution found (tolerance 1.00e-04)\n",
      "Best objective 4.250000000000e+01, best bound 4.250000000000e+01, gap 0.0000%\n"
     ]
    }
   ],
   "source": [
    "# Add constraints\n",
    "t11 = 3 * stdlot # machine 1 usage time for making 1 lot of product 1\n",
    "t21 = 2 * stdlot# machine 2 usage time for making 1 lot of  product 1\n",
    "t12 = 2 * stdlot# machine 1 usage time for making 1 lot of  product 2\n",
    "t22 = 3 * stdlot# machine 2 usage time for making 1 lot of  product 2\n",
    "av1 = 8 # machine 1 total available time per day\n",
    "av2 = 7 # machine 2 total available time per day\n",
    "m.addConstr(u1 * t11 + u2 * t12 <= av1, 'C0')\n",
    "m.addConstr(u1 * t21 + u2 * t22 <= av2, 'C1')\n",
    "m.optimize()"
   ]
  },
  {
   "cell_type": "code",
   "execution_count": 14,
   "metadata": {},
   "outputs": [
    {
     "name": "stdout",
     "output_type": "stream",
     "text": [
      "u1, 10.0 lots, 2.5 units\n",
      "u2, 1.0 lots, 0.25 units\n",
      "Obj: $ 42.5\n"
     ]
    }
   ],
   "source": [
    "for v in m.getVars():\n",
    "    print(f'{v.varName}, {v.x} lots, {v.x * stdlot} units')\n",
    "\n",
    "print(f'Obj: $ {m.objVal}')"
   ]
  }
 ],
 "metadata": {
  "kernelspec": {
   "display_name": "Python 3",
   "language": "python",
   "name": "python3"
  },
  "language_info": {
   "codemirror_mode": {
    "name": "ipython",
    "version": 3
   },
   "file_extension": ".py",
   "mimetype": "text/x-python",
   "name": "python",
   "nbconvert_exporter": "python",
   "pygments_lexer": "ipython3",
   "version": "3.7.6"
  }
 },
 "nbformat": 4,
 "nbformat_minor": 4
}
