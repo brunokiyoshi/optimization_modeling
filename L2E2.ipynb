{
 "cells": [
  {
   "cell_type": "markdown",
   "metadata": {},
   "source": [
    "# Assignment 2 - Exercise 2\n",
    "Bruno Kiyoshi Ynumaru - 201805995"
   ]
  },
  {
   "cell_type": "markdown",
   "metadata": {},
   "source": [
    "Um centro de reciclagem industrial usa dois tipos de sucata de alumÍnio, A e B, para produzir uma liga\n",
    "metálica. A sucata A contém 6% alumínio, 3% silício, e 4% carbono. A sucata B contém 3% alumínio,\n",
    "6% silício e 3% carbono. Os custos por tonelada para a sucata A e B são 100 e 80 unidades monetárias,\n",
    "respectivamente. As especificações da liga metálica requer que (1) o conteúdo de alumínio deve ser\n",
    "pelo menos 3% e no máximo 6%, (2) o conteúdo de silício deve ser pelo menos 3% e no máximo 5%, e\n",
    "(3) o conteúdo de carbono deve ser pelo menos 3% e no máximo 7%. Formule um modelo matemático\n",
    "com o objetivo de determinar a mistura ótima de sucatas A e B para minimizar os custos da produção\n",
    "de 1000 toneladas desta liga metálica.\n"
   ]
  },
  {
   "cell_type": "code",
   "execution_count": 2,
   "metadata": {},
   "outputs": [],
   "source": [
    "import gurobipy as gp\n",
    "from gurobipy import GRB, Model"
   ]
  },
  {
   "cell_type": "code",
   "execution_count": 3,
   "metadata": {},
   "outputs": [
    {
     "name": "stdout",
     "output_type": "stream",
     "text": [
      "Restricted license - for non-production use only - expires 2022-01-13\n"
     ]
    }
   ],
   "source": [
    "# Create a new model\n",
    "m = Model(\"Wyndor_Glass\")"
   ]
  },
  {
   "cell_type": "code",
   "execution_count": 4,
   "metadata": {},
   "outputs": [],
   "source": [
    "# Create variables\n",
    "mA = m.addVar(lb=0, vtype=GRB.CONTINUOUS, name=\"tons A\") # [tons of A]\n",
    "mB = m.addVar(lb=0, vtype=GRB.CONTINUOUS, name=\"tons B\") # [tons of B]"
   ]
  },
  {
   "cell_type": "code",
   "execution_count": 5,
   "metadata": {},
   "outputs": [],
   "source": [
    "# Set objective\n",
    "cA = 100 # [$/ton A]\n",
    "cB = 80 # [$/ton B]\n",
    "m.setObjective(cA * mA + cB * cB, GRB.MINIMIZE)"
   ]
  },
  {
   "cell_type": "code",
   "execution_count": 12,
   "metadata": {},
   "outputs": [
    {
     "name": "stdout",
     "output_type": "stream",
     "text": [
      "Gurobi Optimizer version 9.1.1 build v9.1.1rc0 (win64)\n",
      "Thread count: 2 physical cores, 4 logical processors, using up to 4 threads\n",
      "Optimize a model with 14 rows, 2 columns and 28 nonzeros\n",
      "Coefficient statistics:\n",
      "  Matrix range     [3e-05, 1e+00]\n",
      "  Objective range  [1e+02, 1e+02]\n",
      "  Bounds range     [0e+00, 0e+00]\n",
      "  RHS range        [3e-02, 1e+03]\n",
      "Iteration    Objective       Primal Inf.    Dual Inf.      Time\n",
      "       0    3.9733333e+04   0.000000e+00   0.000000e+00      0s\n",
      "\n",
      "Solved in 0 iterations and 0.01 seconds\n",
      "Optimal objective  3.973333333e+04\n"
     ]
    }
   ],
   "source": [
    "# Add constraints\n",
    "total_prod = 1000 # [tons of product]\n",
    "minAl = 0.03\n",
    "maxAl = 0.06\n",
    "minSi = 0.03\n",
    "maxSi = 0.05\n",
    "minC = 0.03\n",
    "maxC = 0.07\n",
    "Al_A = 0.06\n",
    "Al_B = 0.03\n",
    "Si_A = 0.03\n",
    "Si_B = 0.06\n",
    "C_A = 0.04\n",
    "C_B = 0.03\n",
    "\n",
    "def calculate_concentration(mA, xA, mB, xB, total_prod):\n",
    "    return (mA * xA + mB * xB) / (total_prod)\n",
    "\n",
    "m.addConstr(calculate_concentration(mA, Al_A, mB, Al_B, total_prod) >= minAl, 'C0')\n",
    "m.addConstr(calculate_concentration(mA, Al_A, mB, Al_B, total_prod) <= maxAl, 'C1')\n",
    "m.addConstr(calculate_concentration(mA, Si_A, mB, Si_B, total_prod) >= minSi, 'C2')\n",
    "m.addConstr(calculate_concentration(mA, Si_A, mB, Si_B, total_prod) <= maxSi, 'C3')\n",
    "m.addConstr(calculate_concentration(mA, C_A, mB, C_B, total_prod) >= minC, 'C4')\n",
    "m.addConstr(calculate_concentration(mA, C_A, mB, C_B, total_prod) <= maxC, 'C5')\n",
    "m.addConstr(mA + mB == total_prod, 'C6')\n",
    "\n",
    "m.optimize()"
   ]
  },
  {
   "cell_type": "code",
   "execution_count": 13,
   "metadata": {},
   "outputs": [
    {
     "name": "stdout",
     "output_type": "stream",
     "text": [
      "tons A, 333.33333333333337\n",
      "tons B, 666.6666666666666\n",
      "Obj: 39733.333333333336\n"
     ]
    }
   ],
   "source": [
    "for v in m.getVars():\n",
    "    print(f'{v.varName}, {v.x}')\n",
    "\n",
    "print(f'Obj: {m.objVal}')"
   ]
  },
  {
   "cell_type": "code",
   "execution_count": null,
   "metadata": {},
   "outputs": [],
   "source": []
  },
  {
   "cell_type": "code",
   "execution_count": null,
   "metadata": {},
   "outputs": [],
   "source": []
  },
  {
   "cell_type": "code",
   "execution_count": null,
   "metadata": {},
   "outputs": [],
   "source": []
  }
 ],
 "metadata": {
  "kernelspec": {
   "display_name": "Python 3",
   "language": "python",
   "name": "python3"
  },
  "language_info": {
   "codemirror_mode": {
    "name": "ipython",
    "version": 3
   },
   "file_extension": ".py",
   "mimetype": "text/x-python",
   "name": "python",
   "nbconvert_exporter": "python",
   "pygments_lexer": "ipython3",
   "version": "3.7.6"
  }
 },
 "nbformat": 4,
 "nbformat_minor": 4
}
