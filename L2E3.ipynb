{
 "cells": [
  {
   "cell_type": "markdown",
   "metadata": {},
   "source": [
    "# Assignment 2 - Exercise 3\n",
    "Bruno Kiyoshi Ynumaru - 201805995"
   ]
  },
  {
   "cell_type": "markdown",
   "metadata": {},
   "source": [
    " Uma empresa está tentando determinar onde deverá construir um depósito. A posição no plano x-y\n",
    "(em quilometros) de quatro clientes e o número de entregas feitas anualmente para cada cliente são\n",
    "dados na tabela abaixo. A empresa quer posicionar seu depósito neste plano de forma a minimizar\n",
    "a distância total viajada anualmente pelos seus caminhões. Formule um modelo matemático com o\n",
    "objetivo de determinar a posição deste depósito.\n",
    "\n",
    "|Cliente |Pos. x |Pos. y |Número de fretes|\n",
    "| --- | --- | --- | --- | \n",
    "|1| 5| 10| 200|\n",
    "|2 |10 |5| 150|\n",
    "|3 |0 |12 |200|\n",
    "|4 |12 |0 |300|"
   ]
  },
  {
   "cell_type": "code",
   "execution_count": 1,
   "metadata": {},
   "outputs": [],
   "source": [
    "import gurobipy as gp\n",
    "from gurobipy import GRB, Model"
   ]
  },
  {
   "cell_type": "code",
   "execution_count": 2,
   "metadata": {},
   "outputs": [
    {
     "name": "stdout",
     "output_type": "stream",
     "text": [
      "Restricted license - for non-production use only - expires 2022-01-13\n"
     ]
    }
   ],
   "source": [
    "# Create a new model\n",
    "m = Model(\"Wyndor_Glass\")"
   ]
  },
  {
   "cell_type": "code",
   "execution_count": 3,
   "metadata": {},
   "outputs": [],
   "source": [
    "# Create variables\n",
    "x = m.addVar(lb=0, vtype=GRB.CONTINUOUS, name=\"x coordinate\")\n",
    "y = m.addVar(lb=0, vtype=GRB.CONTINUOUS, name=\"y coordinate\")"
   ]
  },
  {
   "cell_type": "code",
   "execution_count": 4,
   "metadata": {},
   "outputs": [],
   "source": [
    "# Set objective\n",
    "def calc_distance(x1, y1, x2, y2):\n",
    "    return ((x1 - x2) * (x1 - x2) + (y1 - y2) * (y1 - y2))\n",
    "\n",
    "m.setObjective(200 * calc_distance(x, y, 5, 10) +\n",
    "               150 * calc_distance(x, y, 10, 5) +\n",
    "               200 * calc_distance(x, y, 0, 12) + \n",
    "               300 * calc_distance(x, y, 12, 0),\n",
    "               GRB.MINIMIZE)"
   ]
  },
  {
   "cell_type": "code",
   "execution_count": 5,
   "metadata": {},
   "outputs": [
    {
     "name": "stdout",
     "output_type": "stream",
     "text": [
      "Gurobi Optimizer version 9.1.1 build v9.1.1rc0 (win64)\n",
      "Thread count: 2 physical cores, 4 logical processors, using up to 4 threads\n",
      "Optimize a model with 0 rows, 2 columns and 0 nonzeros\n",
      "Model fingerprint: 0xfaa5ebaf\n",
      "Model has 2 quadratic objective terms\n",
      "Coefficient statistics:\n",
      "  Matrix range     [0e+00, 0e+00]\n",
      "  Objective range  [1e+04, 1e+04]\n",
      "  QObjective range [2e+03, 2e+03]\n",
      "  Bounds range     [0e+00, 0e+00]\n",
      "  RHS range        [0e+00, 0e+00]\n",
      "Presolve removed 0 rows and 2 columns\n",
      "Presolve time: 0.01s\n",
      "Presolve: All rows and columns removed\n",
      "\n",
      "Barrier solved model in 0 iterations and 0.01 seconds\n",
      "Optimal objective 4.07705882e+04\n"
     ]
    }
   ],
   "source": [
    "# Add constraints\n",
    "# m.addConstr((x, y) != (5, 10), 'C0')\n",
    "# m.addConstr((x, y) != (10, 5), 'C1')\n",
    "# m.addConstr((x, y) != (0, 12), 'C2')\n",
    "# m.addConstr((x, y) != (12, 0), 'C3')\n",
    "\n",
    "# m.addConstr((x == 5) >> (y != 10), 'C0')\n",
    "# m.addConstr((x == 10) >> (y != 5), 'C1')\n",
    "# m.addConstr((x == 0) >> (y != 12), 'C2')\n",
    "# m.addConstr((x == 12) >> (y != 0), 'C3')\n",
    "\n",
    "m.optimize()"
   ]
  },
  {
   "cell_type": "code",
   "execution_count": 6,
   "metadata": {},
   "outputs": [
    {
     "name": "stdout",
     "output_type": "stream",
     "text": [
      "x coordinate, 7.176470588235294\n",
      "y coordinate, 6.0588235294117645\n",
      "Obj: 40770.58823529411\n"
     ]
    }
   ],
   "source": [
    "for v in m.getVars():\n",
    "    print(f'{v.varName}, {v.x}')\n",
    "\n",
    "print(f'Obj: {m.objVal}')"
   ]
  },
  {
   "cell_type": "code",
   "execution_count": 41,
   "metadata": {},
   "outputs": [
    {
     "data": {
      "image/png": "[encoded data removed]",
      "text/plain": [
       "<Figure size 432x288 with 1 Axes>"
      ]
     },
     "metadata": {
      "needs_background": "light"
     },
     "output_type": "display_data"
    }
   ],
   "source": [
    "import matplotlib.pyplot as plt\n",
    "plt.figure()\n",
    "plt.scatter(5, 10, s=200, label='Client 1')\n",
    "plt.scatter(10, 5, s=150, label='Client 2')\n",
    "plt.scatter(0, 12, s=200, label='Client 3')\n",
    "plt.scatter(12, 0, s=300, label='Client 4')\n",
    "plt.grid(which=\"both\")\n",
    "plt.scatter(x.x, y.x, s=100, marker=\"x\", c=\"black\")\n",
    "plt.xlabel(\"x\")\n",
    "plt.ylabel(\"y\")\n",
    "plt.legend()\n",
    "plt.show()"
   ]
  },
  {
   "cell_type": "code",
   "execution_count": null,
   "metadata": {},
   "outputs": [],
   "source": []
  }
 ],
 "metadata": {
  "kernelspec": {
   "display_name": "Python 3",
   "language": "python",
   "name": "python3"
  },
  "language_info": {
   "codemirror_mode": {
    "name": "ipython",
    "version": 3
   },
   "file_extension": ".py",
   "mimetype": "text/x-python",
   "name": "python",
   "nbconvert_exporter": "python",
   "pygments_lexer": "ipython3",
   "version": "3.7.6"
  }
 },
 "nbformat": 4,
 "nbformat_minor": 4
}
