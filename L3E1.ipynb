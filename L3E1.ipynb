{
 "cells": [
  {
   "cell_type": "markdown",
   "metadata": {},
   "source": [
    "# Assignment 2 - Exercise 3\n",
    "Bruno Kiyoshi Ynumaru - 201805995"
   ]
  },
  {
   "cell_type": "code",
   "execution_count": 10,
   "metadata": {
    "collapsed": true,
    "jupyter": {
     "outputs_hidden": true,
     "source_hidden": true
    }
   },
   "outputs": [
    {
     "name": "stdout",
     "output_type": "stream",
     "text": [
      "Minha dieta requer que toda a comida que eu coma venha de um dos quatro 'grupos básicos de alimentos' (bolo de chocolate, sorvete, refrigerante e cheesecake). Atualmente, os quatro alimentos que disponho para consumo são: brownie, sorvete de chocolate, refrigerante de cola, e cheesecake de abacaxi. Cada brownie custa \\\\$0,50, cada colher de sorvete de chocolate custa \\\\$0,20, cada garrafa de refrigerante custa \\\\$0,30, e cada fatia de cheesecake custa \\\\$0,80. Por dia, eu preciso ingerir pelo menos 500 calorias, 170 g de chocolate, 280 g de açucar, e 225 g de gordura. A tabela nutricional dos alimentos é dada abaixo. Formule e resolva um modelo de programação linear que possa ser usado para satisfazer minhas necessidades nutricionais diárias por um custo mínimo.\n"
     ]
    }
   ],
   "source": [
    "prob_statement = \"Minha dieta requer que toda a comida que eu coma venha de um dos quatro 'grupos básicos de alimentos' (bolo de chocolate, sorvete, refrigerante e cheesecake). Atualmente, os quatro alimentos que disponho para consumo são: brownie, sorvete de chocolate, refrigerante de cola, e cheesecake de abacaxi. Cada brownie custa $0,50, cada colher de sorvete de chocolate custa $0,20, cada garrafa de refrigerante custa $0,30, e cada fatia de cheesecake custa $0,80. Por dia, eu preciso ingerir pelo menos 500 calorias, 170 g de chocolate, 280 g de a¸cucar, e 225 g de gordura. A tabela nutricional dos alimentos ´e dada abaixo. Formule e resolva um modelo de programa¸c˜ao linear que possa ser usado para satisfazer minhas necessidades nutricionais di´arias por um custo m´ınimo.\" \n",
    "def fix_statement(str_statement):\n",
    "    list_replacements = [(\"¸c\", \"ç\"), \n",
    "                         (\"´a\", \"á\"),\n",
    "                         (\"´e\", \"é\"),\n",
    "                         (\"´ı\", \"í\"),\n",
    "                         (\"´o\", \"ó\"),\n",
    "                         (\"´u\", \"ú\"),\n",
    "                         (\"˜a\", \"ã\"),\n",
    "                         (\"˜o\", \"õ\"),\n",
    "                         (\"$\", \"\\\\\\$\")]\n",
    "    for replacement in list_replacements:\n",
    "        str_statement = str_statement.replace(replacement[0], replacement[1])\n",
    "    return str_statement\n",
    "prob_statement = fix_statement(prob_statement)\n",
    "print(prob_statement)"
   ]
  },
  {
   "cell_type": "markdown",
   "metadata": {},
   "source": [
    "Minha dieta requer que toda a comida que eu coma venha de um dos quatro 'grupos básicos de alimentos' (bolo de chocolate, sorvete, refrigerante e cheesecake). Atualmente, os quatro alimentos que disponho para consumo são: brownie, sorvete de chocolate, refrigerante de cola, e cheesecake de abacaxi. Cada brownie custa \\\\$0,50, cada colher de sorvete de chocolate custa \\\\$0,20, cada garrafa de refrigerante custa \\\\$0,30, e cada fatia de cheesecake custa \\\\$0,80. Por dia, eu preciso ingerir pelo menos 500 calorias, 170 g de chocolate, 280 g de açúcar, e 225 g de gordura. A tabela nutricional dos alimentos é dada abaixo. Formule e resolva um modelo de programação linear que possa ser usado para satisfazer minhas necessidades nutricionais diárias por um custo mínimo.\n",
    "\n",
    "\n",
    "|Alimento| Calorias| Chocolate (g)| Açúcar (g)| Gordura (g)|\n",
    "| --- | --- | --- | --- | --- |\n",
    "|Brownie| 400 |90 |60 |60|\n",
    "|Sorvete de chocolate| 200| 60| 60| 110|\n",
    "|Refrigerante de cola| 150 |0 |110 |30|\n",
    "|Cheesecake de abacaxi| 500| 0| 110| 140|\n"
   ]
  },
  {
   "cell_type": "code",
   "execution_count": 19,
   "metadata": {},
   "outputs": [],
   "source": [
    "import gurobipy as gp\n",
    "from gurobipy import GRB, Model"
   ]
  },
  {
   "cell_type": "code",
   "execution_count": 20,
   "metadata": {},
   "outputs": [],
   "source": [
    "# Create a new model\n",
    "m = Model(\"Wyndor_Glass\")"
   ]
  },
  {
   "cell_type": "code",
   "execution_count": 21,
   "metadata": {},
   "outputs": [],
   "source": [
    "# Create variables\n",
    "brownie = m.addVar(lb=0, vtype=GRB.INTEGER, name=\"brownies (units)\")\n",
    "ice_cream = m.addVar(lb=0, vtype=GRB.INTEGER, name=\"ice_cream (units)\")\n",
    "cola = m.addVar(lb=0, vtype=GRB.INTEGER, name=\"soda (units)\")\n",
    "cheesecake = m.addVar(lb=0, vtype=GRB.INTEGER, name=\"soda (units)\")"
   ]
  },
  {
   "cell_type": "code",
   "execution_count": 22,
   "metadata": {},
   "outputs": [],
   "source": [
    "# Set objective\n",
    "price_brownie = 0.50 # [$/unit]\n",
    "price_ice_cream = 0.20 # [$/unit]\n",
    "price_cola = 0.30 # [$/unit]\n",
    "price_cheesecake = 0.80 # [$/unit]\n",
    "\n",
    "m.setObjective(brownie * price_brownie +\n",
    "               ice_cream * price_ice_cream +\n",
    "               cola * price_cola + \n",
    "               cheesecake * price_cheesecake,\n",
    "               GRB.MINIMIZE)"
   ]
  },
  {
   "cell_type": "code",
   "execution_count": 23,
   "metadata": {},
   "outputs": [
    {
     "name": "stdout",
     "output_type": "stream",
     "text": [
      "Gurobi Optimizer version 9.1.1 build v9.1.1rc0 (win64)\n",
      "Thread count: 2 physical cores, 4 logical processors, using up to 4 threads\n",
      "Optimize a model with 4 rows, 4 columns and 14 nonzeros\n",
      "Model fingerprint: 0x7510f2cb\n",
      "Variable types: 0 continuous, 4 integer (0 binary)\n",
      "Coefficient statistics:\n",
      "  Matrix range     [3e+01, 5e+02]\n",
      "  Objective range  [2e-01, 8e-01]\n",
      "  Bounds range     [0e+00, 0e+00]\n",
      "  RHS range        [2e+02, 5e+02]\n",
      "Found heuristic solution: objective 1.4000000\n",
      "Presolve time: 0.00s\n",
      "Presolved: 4 rows, 4 columns, 14 nonzeros\n",
      "Variable types: 0 continuous, 4 integer (0 binary)\n",
      "\n",
      "Root relaxation: objective 8.727273e-01, 2 iterations, 0.00 seconds\n",
      "\n",
      "    Nodes    |    Current Node    |     Objective Bounds      |     Work\n",
      " Expl Unexpl |  Obj  Depth IntInf | Incumbent    BestBd   Gap | It/Node Time\n",
      "\n",
      "     0     0    0.87273    0    1    1.40000    0.87273  37.7%     -    0s\n",
      "H    0     0                       1.0000000    0.87273  12.7%     -    0s\n",
      "H    0     0                       0.9000000    0.87273  3.03%     -    0s\n",
      "     0     0    0.87273    0    1    0.90000    0.87273  3.03%     -    0s\n",
      "\n",
      "Explored 1 nodes (2 simplex iterations) in 0.03 seconds\n",
      "Thread count was 4 (of 4 available processors)\n",
      "\n",
      "Solution count 3: 0.9 1 1.4 \n",
      "\n",
      "Optimal solution found (tolerance 1.00e-04)\n",
      "Best objective 9.000000000000e-01, best bound 9.000000000000e-01, gap 0.0000%\n"
     ]
    }
   ],
   "source": [
    "# Add constraints\n",
    "m.addConstr(brownie * 400 + ice_cream * 200 + cola * 150 + cheesecake * 500 >= 500, 'Min calories')\n",
    "m.addConstr(brownie * 90 + ice_cream * 60 + cola * 0 + cheesecake * 0 >= 170, 'Min chocolate')\n",
    "m.addConstr(brownie * 60 + ice_cream * 60 + cola * 110 + cheesecake * 110 >= 280, 'Min sugar')\n",
    "m.addConstr(brownie * 60 + ice_cream * 110 + cola * 30 + cheesecake * 140 >= 225, 'Min fat')\n",
    "\n",
    "m.optimize()"
   ]
  },
  {
   "cell_type": "code",
   "execution_count": 24,
   "metadata": {},
   "outputs": [
    {
     "name": "stdout",
     "output_type": "stream",
     "text": [
      "brownies (units), -0.0\n",
      "ice_cream (units), 3.0\n",
      "soda (units), 1.0\n",
      "soda (units), -0.0\n",
      "Obj: 0.9000000000000001\n"
     ]
    }
   ],
   "source": [
    "for v in m.getVars():\n",
    "    print(f'{v.varName}, {v.x}')\n",
    "\n",
    "print(f'Obj: {m.objVal}')"
   ]
  },
  {
   "cell_type": "code",
   "execution_count": null,
   "metadata": {},
   "outputs": [],
   "source": []
  }
 ],
 "metadata": {
  "kernelspec": {
   "display_name": "Python 3",
   "language": "python",
   "name": "python3"
  },
  "language_info": {
   "codemirror_mode": {
    "name": "ipython",
    "version": 3
   },
   "file_extension": ".py",
   "mimetype": "text/x-python",
   "name": "python",
   "nbconvert_exporter": "python",
   "pygments_lexer": "ipython3",
   "version": "3.7.6"
  }
 },
 "nbformat": 4,
 "nbformat_minor": 4
}
