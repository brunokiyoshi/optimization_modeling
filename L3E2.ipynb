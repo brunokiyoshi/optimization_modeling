{
 "cells": [
  {
   "cell_type": "markdown",
   "metadata": {},
   "source": [
    "# Assignment 3 - Exercise 2\n",
    "Bruno Kiyoshi Ynumaru - 201805995"
   ]
  },
  {
   "cell_type": "code",
   "execution_count": 2,
   "metadata": {
    "collapsed": true,
    "jupyter": {
     "outputs_hidden": true,
     "source_hidden": true
    }
   },
   "outputs": [
    {
     "name": "stdout",
     "output_type": "stream",
     "text": [
      "A empresa Rylon produz os perfumes Brute e Chanelle. O material necessário para a produção de cada\n",
      "tipo de perfume pode ser comprado por \\\\$3/kg. Processar 1 kg de material requer 1 hora de trabalho\n",
      "de laboratório. Cada quilo processado fornece 3 g de perfume Brute padrão e 4 g de perfume Chanelle\n",
      "padrão. Brute padrão é vendido por \\\\$7/g e Chanelle padrão por \\\\$6/g. Rylon também pode processar\n",
      "o Brute padrão e o Chanelle padrão em Brute luxo, vendido por \\\\$18/g e Chanelle luxo, vendido por\n",
      "\\\\$15/g. Cada grama de Brute padrão processada requer mais 3 horas de tempo de laboratório e \\\\$4\n",
      "em custo de processamento para obter 1 g de perfume Brute luxo. Cada grama de Chanelle padrão\n",
      "processada requer mais 2 horas de tempo de laboratório e \\\\$4 em custo de processamento para obter 1\n",
      "g de perfume Chanelle luxo. Cada ano, Rylon dispõe de 6000 horas de tempo de laboratório e pode\n",
      "comprar até 4000 kg de material. Formule e resolva um PL que determine como a empresa Rylon pode\n",
      "maximizar seus lucros. Assuma que o custo do laboratório é um custo fixo.\n"
     ]
    }
   ],
   "source": [
    "prob_statement = \"\"\"A empresa Rylon produz os perfumes Brute e Chanelle. O material necess´ario para a produ¸c˜ao de cada\n",
    "tipo de perfume pode ser comprado por $3/kg. Processar 1 kg de material requer 1 hora de trabalho\n",
    "de laborat´orio. Cada quilo processado fornece 3 g de perfume Brute padr˜ao e 4 g de perfume Chanelle\n",
    "padr˜ao. Brute padr˜ao ´e vendido por $7/g e Chanelle padr˜ao por $6/g. Rylon tamb´em pode processar\n",
    "o Brute padr˜ao e o Chanelle padr˜ao em Brute luxo, vendido por $18/g e Chanelle luxo, vendido por\n",
    "$15/g. Cada grama de Brute padr˜ao processada requer mais 3 horas de tempo de laborat´orio e $4\n",
    "em custo de processamento para obter 1 g de perfume Brute luxo. Cada grama de Chanelle padr˜ao\n",
    "processada requer mais 2 horas de tempo de laborat´orio e $4 em custo de processamento para obter 1\n",
    "g de perfume Chanelle luxo. Cada ano, Rylon disp˜oe de 6000 horas de tempo de laborat´orio e pode\n",
    "comprar at´e 4000 kg de material. Formule e resolva um PL que determine como a empresa Rylon pode\n",
    "maximizar seus lucros. Assuma que o custo do laborat´orio ´e um custo fixo.\"\"\"\n",
    "def fix_statement(str_statement):\n",
    "    list_replacements = [(\"¸c\", \"ç\"), \n",
    "                         (\"´a\", \"á\"),\n",
    "                         (\"´e\", \"é\"),\n",
    "                         (\"´ı\", \"í\"),\n",
    "                         (\"´o\", \"ó\"),\n",
    "                         (\"´u\", \"ú\"),\n",
    "                         (\"˜a\", \"ã\"),\n",
    "                         (\"˜o\", \"õ\"),\n",
    "                         (\"$\", \"\\\\\\$\")]\n",
    "    for replacement in list_replacements:\n",
    "        str_statement = str_statement.replace(replacement[0], replacement[1])\n",
    "    return str_statement\n",
    "prob_statement = fix_statement(prob_statement)\n",
    "print(prob_statement)"
   ]
  },
  {
   "cell_type": "markdown",
   "metadata": {},
   "source": [
    "A empresa Rylon produz os perfumes Brute e Chanelle. O material necessário para a produção de cada\n",
    "tipo de perfume pode ser comprado por \\\\$3/kg. Processar 1 kg de material requer 1 hora de trabalho\n",
    "de laboratório. Cada quilo processado fornece 3 g de perfume Brute padrão e 4 g de perfume Chanelle\n",
    "padrão. Brute padrão é vendido por \\\\$7/g e Chanelle padrão por \\\\$6/g. Rylon também pode processar\n",
    "o Brute padrão e o Chanelle padrão em Brute luxo, vendido por \\\\$18/g e Chanelle luxo, vendido por\n",
    "\\\\$15/g. Cada grama de Brute padrão processada requer mais 3 horas de tempo de laboratório e \\\\$4\n",
    "em custo de processamento para obter 1 g de perfume Brute luxo. Cada grama de Chanelle padrão\n",
    "processada requer mais 2 horas de tempo de laboratório e \\\\$4 em custo de processamento para obter 1\n",
    "g de perfume Chanelle luxo. Cada ano, Rylon dispõe de 6000 horas de tempo de laboratório e pode\n",
    "comprar até 4000 kg de material. Formule e resolva um PL que determine como a empresa Rylon pode\n",
    "maximizar seus lucros. Assuma que o custo do laboratório é um custo fixo."
   ]
  },
  {
   "cell_type": "code",
   "execution_count": 3,
   "metadata": {},
   "outputs": [],
   "source": [
    "import gurobipy as gp\n",
    "from gurobipy import GRB, Model"
   ]
  },
  {
   "cell_type": "code",
   "execution_count": 4,
   "metadata": {},
   "outputs": [
    {
     "name": "stdout",
     "output_type": "stream",
     "text": [
      "Restricted license - for non-production use only - expires 2022-01-13\n"
     ]
    }
   ],
   "source": [
    "# Create a new model\n",
    "m = Model(\"Wyndor_Glass\")"
   ]
  },
  {
   "cell_type": "code",
   "execution_count": 7,
   "metadata": {},
   "outputs": [],
   "source": [
    "# Create variables\n",
    "brute = m.addVar(lb=0, vtype=GRB.INTEGER, name=\"brute (g)\")\n",
    "chanelle = m.addVar(lb=0, vtype=GRB.INTEGER, name=\"chanelle (g)\")\n",
    "brute_luxo = m.addVar(lb=0, vtype=GRB.INTEGER, name=\"brute_luxo (g)\")\n",
    "chanelle_luxo = m.addVar(lb=0, vtype=GRB.INTEGER, name=\"chanelle (g)\")"
   ]
  },
  {
   "cell_type": "code",
   "execution_count": 8,
   "metadata": {},
   "outputs": [],
   "source": [
    "# Set objective\n",
    "revenue_brute = 7 # [$/g]\n",
    "revenue_chanelle = 6 # [$/g]\n",
    "revenue_brute_luxo = 18 # [$/g]\n",
    "revenue_chanelle_luxo = 15 # [$/g]\n",
    "cost_raw_material = 3 / 1000 # [$/g]\n",
    "cost_process_brute_luxo = 4 # [$/g]\n",
    "cost_process_chanelle_luxo = 4 # [$/g]\n",
    "yield_brute = 3 / 1000 # [g_brute/g_raw_material]\n",
    "yield_chanelle = 4 / 1000 # [g_brute/g_raw_material]\n",
    "\n",
    "# considering raw material processing time as constant (time for processing 1kg is the same as processing 1g)\n",
    "\n",
    "\n",
    "\n",
    "m.setObjective(brute * (revenue_brute - (1 / yield_brute) * cost_raw_material) +\n",
    "               chanelle * (revenue_chanelle - (1 / yield_chanelle) * cost_raw_material) +\n",
    "               brute_luxo * (revenue_brute_luxo - (1 / yield_brute) * cost_raw_material + cost_process_brute_luxo) +\n",
    "               chanelle_luxo * (revenue_chanelle_luxo - (1 / yield_chanelle) * cost_raw_material+ cost_process_chanelle_luxo),\n",
    "               GRB.MINIMIZE)"
   ]
  },
  {
   "cell_type": "code",
   "execution_count": 9,
   "metadata": {},
   "outputs": [
    {
     "name": "stdout",
     "output_type": "stream",
     "text": [
      "Gurobi Optimizer version 9.1.1 build v9.1.1rc0 (win64)\n",
      "Thread count: 2 physical cores, 4 logical processors, using up to 4 threads\n",
      "Optimize a model with 2 rows, 4 columns and 8 nonzeros\n",
      "Model fingerprint: 0x3d13f456\n",
      "Variable types: 0 continuous, 4 integer (0 binary)\n",
      "Coefficient statistics:\n",
      "  Matrix range     [3e-01, 3e+02]\n",
      "  Objective range  [5e+00, 2e+01]\n",
      "  Bounds range     [0e+00, 0e+00]\n",
      "  RHS range        [2e+02, 4e+06]\n",
      "Found heuristic solution: objective 292018.25000\n",
      "Presolve removed 1 rows and 2 columns\n",
      "Presolve time: 0.02s\n",
      "Presolved: 1 rows, 2 columns, 2 nonzeros\n",
      "Found heuristic solution: objective 72000.000000\n",
      "Variable types: 0 continuous, 2 integer (0 binary)\n",
      "\n",
      "Root relaxation: cutoff, 0 iterations, 0.00 seconds\n",
      "\n",
      "Explored 0 nodes (0 simplex iterations) in 0.10 seconds\n",
      "Thread count was 4 (of 4 available processors)\n",
      "\n",
      "Solution count 2: 72000 292018 \n",
      "\n",
      "Optimal solution found (tolerance 1.00e-04)\n",
      "Best objective 7.200000000000e+04, best bound 7.200000000000e+04, gap 0.0000%\n"
     ]
    }
   ],
   "source": [
    "# Add constraints\n",
    "m.addConstr((brute + brute_luxo) / yield_brute + (chanelle + chanelle_luxo) / yield_chanelle >= 4000 * 1000, 'Available raw material (g)')\n",
    "m.addConstr(((brute + brute_luxo) / yield_brute + (chanelle + chanelle_luxo) / yield_chanelle)/1000 + brute_luxo * 3 + chanelle_luxo * 4 >= 170, 'Max lab hours')\n",
    "m.optimize()"
   ]
  },
  {
   "cell_type": "code",
   "execution_count": 10,
   "metadata": {},
   "outputs": [
    {
     "name": "stdout",
     "output_type": "stream",
     "text": [
      "brute (g), 12000.0\n",
      "chanelle (g), -0.0\n",
      "brute_luxo (g), -0.0\n",
      "chanelle (g), -0.0\n",
      "Obj: 72000.0\n"
     ]
    }
   ],
   "source": [
    "for v in m.getVars():\n",
    "    print(f'{v.varName}, {v.x}')\n",
    "\n",
    "print(f'Obj: {m.objVal}')"
   ]
  },
  {
   "cell_type": "code",
   "execution_count": null,
   "metadata": {},
   "outputs": [],
   "source": []
  }
 ],
 "metadata": {
  "kernelspec": {
   "display_name": "Python 3",
   "language": "python",
   "name": "python3"
  },
  "language_info": {
   "codemirror_mode": {
    "name": "ipython",
    "version": 3
   },
   "file_extension": ".py",
   "mimetype": "text/x-python",
   "name": "python",
   "nbconvert_exporter": "python",
   "pygments_lexer": "ipython3",
   "version": "3.7.6"
  }
 },
 "nbformat": 4,
 "nbformat_minor": 4
}
