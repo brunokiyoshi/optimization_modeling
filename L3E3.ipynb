{
 "cells": [
  {
   "cell_type": "markdown",
   "metadata": {},
   "source": [
    "# Assignment 3 - Exercise 3\n",
    "Bruno Kiyoshi Ynumaru - 201805995"
   ]
  },
  {
   "cell_type": "code",
   "execution_count": 1,
   "metadata": {
    "collapsed": true,
    "jupyter": {
     "outputs_hidden": true,
     "source_hidden": true
    }
   },
   "outputs": [
    {
     "name": "stdout",
     "output_type": "stream",
     "text": [
      "Uma empresa está considerando 5 oportunidades de investimento distintas. A saída de caixa e o valor\n",
      "presente líquido (VPL) destes investimentos são dados na tabela abaixo (em milhões de dólares). A\n",
      "empresa possui \\\\$40 milhões para investimento no instante atual (instante 0); ela estima que em um\n",
      "ano a partir de agora (instante 1) \\\\$20 milhões estarão disponíveis para investimento. Os investimentos\n",
      "podem ser comprados em qualquer fração. Neste caso, a saída de caixa e o VPL são ajustados na\n",
      "mesma proporção. Formule e resolva um PL que ajude a empresa a maximizar o VPL que pode ser\n",
      "gerado investindo nos investimentos 1-5.\n",
      "\n"
     ]
    }
   ],
   "source": [
    "prob_statement = \"\"\"Uma empresa est´a considerando 5 oportunidades de investimento distintas. A sa´ıda de caixa e o valor\n",
    "presente l´ıquido (VPL) destes investimentos s˜ao dados na tabela abaixo (em milh˜oes de d´olares). A\n",
    "empresa possui $40 milh˜oes para investimento no instante atual (instante 0); ela estima que em um\n",
    "ano a partir de agora (instante 1) $20 milh˜oes estar˜ao dispon´ıveis para investimento. Os investimentos\n",
    "podem ser comprados em qualquer fra¸c˜ao. Neste caso, a sa´ıda de caixa e o VPL s˜ao ajustados na\n",
    "mesma propor¸c˜ao. Formule e resolva um PL que ajude a empresa a maximizar o VPL que pode ser\n",
    "gerado investindo nos investimentos 1-5.\n",
    "\"\"\"\n",
    "def fix_statement(str_statement):\n",
    "    list_replacements = [(\"¸c\", \"ç\"), \n",
    "                         (\"´a\", \"á\"),\n",
    "                         (\"´e\", \"é\"),\n",
    "                         (\"´ı\", \"í\"),\n",
    "                         (\"´o\", \"ó\"),\n",
    "                         (\"´u\", \"ú\"),\n",
    "                         (\"˜a\", \"ã\"),\n",
    "                         (\"˜o\", \"õ\"),\n",
    "                         (\"$\", \"\\\\\\$\")]\n",
    "    for replacement in list_replacements:\n",
    "        str_statement = str_statement.replace(replacement[0], replacement[1])\n",
    "    return str_statement\n",
    "prob_statement = fix_statement(prob_statement)\n",
    "print(prob_statement)"
   ]
  },
  {
   "cell_type": "markdown",
   "metadata": {},
   "source": [
    "Uma empresa está considerando 5 oportunidades de investimento distintas. A saída de caixa e o valor\n",
    "presente líquido (VPL) destes investimentos são dados na tabela abaixo (em milhões de dólares). A\n",
    "empresa possui \\\\$40 milhões para investimento no instante atual (instante 0); ela estima que em um\n",
    "ano a partir de agora (instante 1) \\\\$20 milhões estarão disponíveis para investimento. Os investimentos\n",
    "podem ser comprados em qualquer fração. Neste caso, a saída de caixa e o VPL são ajustados na\n",
    "mesma proporção. Formule e resolva um PL que ajude a empresa a maximizar o VPL que pode ser\n",
    "gerado investindo nos investimentos 1-5.\n",
    "\n",
    "| Investimentos|1| 2| 3| 4| 5|\n",
    "| --- | --- | --- | --- | --- | --- |\n",
    "|Saída de caixa (instante 0)| 11| 53| 5 |5 |29|\n",
    "|Saída de caixa (instante 1) |3 |6| 5| 1 |34|\n",
    "|VPL| 13| 16| 10| 14| 39|"
   ]
  },
  {
   "cell_type": "code",
   "execution_count": 3,
   "metadata": {},
   "outputs": [],
   "source": [
    "import gurobipy as gp\n",
    "from gurobipy import GRB, Model"
   ]
  },
  {
   "cell_type": "code",
   "execution_count": 4,
   "metadata": {},
   "outputs": [
    {
     "name": "stdout",
     "output_type": "stream",
     "text": [
      "Restricted license - for non-production use only - expires 2022-01-13\n"
     ]
    }
   ],
   "source": [
    "# Create a new model\n",
    "m = Model(\"Wyndor_Glass\")"
   ]
  },
  {
   "cell_type": "code",
   "execution_count": 5,
   "metadata": {},
   "outputs": [],
   "source": [
    "# Create variables\n",
    "x1 = m.addVar(lb=0, vtype=GRB.CONTINUOUS, name=\"investment 1 (share)\")\n",
    "x2 = m.addVar(lb=0, vtype=GRB.CONTINUOUS, name=\"investment 2 (share)\")\n",
    "x3 = m.addVar(lb=0, vtype=GRB.CONTINUOUS, name=\"investment 3 (share)\")\n",
    "x4 = m.addVar(lb=0, vtype=GRB.CONTINUOUS, name=\"investment 4 (share)\")\n",
    "x5 = m.addVar(lb=0, vtype=GRB.CONTINUOUS, name=\"investment 5 (share)\")"
   ]
  },
  {
   "cell_type": "code",
   "execution_count": 6,
   "metadata": {},
   "outputs": [],
   "source": [
    "m.setObjective(x1 * 13 + x2 * 16 + x3 * 10 + x4 * 14 + x5 * 39,\n",
    "               GRB.MAXIMIZE)"
   ]
  },
  {
   "cell_type": "code",
   "execution_count": 7,
   "metadata": {},
   "outputs": [
    {
     "name": "stdout",
     "output_type": "stream",
     "text": [
      "Gurobi Optimizer version 9.1.1 build v9.1.1rc0 (win64)\n",
      "Thread count: 2 physical cores, 4 logical processors, using up to 4 threads\n",
      "Optimize a model with 7 rows, 5 columns and 15 nonzeros\n",
      "Model fingerprint: 0x5fc5796b\n",
      "Coefficient statistics:\n",
      "  Matrix range     [1e+00, 5e+01]\n",
      "  Objective range  [1e+01, 4e+01]\n",
      "  Bounds range     [0e+00, 0e+00]\n",
      "  RHS range        [1e+00, 4e+01]\n",
      "Presolve removed 5 rows and 0 columns\n",
      "Presolve time: 0.01s\n",
      "Presolved: 2 rows, 5 columns, 10 nonzeros\n",
      "\n",
      "Iteration    Objective       Primal Inf.    Dual Inf.      Time\n",
      "       0    1.1200000e+02   3.500000e+00   0.000000e+00      0s\n",
      "       2    5.1449017e+01   0.000000e+00   0.000000e+00      0s\n",
      "\n",
      "Solved in 2 iterations and 0.03 seconds\n",
      "Optimal objective  5.144901720e+01\n"
     ]
    }
   ],
   "source": [
    "# Add constraints\n",
    "m.addConstr(x1 * 11 + x2 * 53 + x3 * 5 + x4 * 5 + x5 * 29 <= 40, 'Funds on time 0')\n",
    "m.addConstr(x1 * 3 + x2 * 6 + x3 * 5 + x4 * 1 + x5 * 34 <= 20, 'Funds on time 1')\n",
    "m.addConstr(x1 <= 1, 'max share of investment 1')\n",
    "m.addConstr(x2 <= 1, 'max share of investment 2')\n",
    "m.addConstr(x3 <= 1, 'max share of investment 3')\n",
    "m.addConstr(x4 <= 1, 'max share of investment 4')\n",
    "m.addConstr(x5 <= 1, 'max share of investment 5')\n",
    "\n",
    "m.optimize()"
   ]
  },
  {
   "cell_type": "code",
   "execution_count": 8,
   "metadata": {},
   "outputs": [
    {
     "name": "stdout",
     "output_type": "stream",
     "text": [
      "investment 1 (share), 1.0\n",
      "investment 2 (share), 0.20085995085995084\n",
      "investment 3 (share), 1.0\n",
      "investment 4 (share), 1.0\n",
      "investment 5 (share), 0.2880835380835381\n",
      "Obj: 51.449017199017206\n"
     ]
    }
   ],
   "source": [
    "for v in m.getVars():\n",
    "    print(f'{v.varName}, {v.x}')\n",
    "\n",
    "print(f'Obj: {m.objVal}')"
   ]
  },
  {
   "cell_type": "code",
   "execution_count": null,
   "metadata": {},
   "outputs": [],
   "source": []
  }
 ],
 "metadata": {
  "kernelspec": {
   "display_name": "Python 3",
   "language": "python",
   "name": "python3"
  },
  "language_info": {
   "codemirror_mode": {
    "name": "ipython",
    "version": 3
   },
   "file_extension": ".py",
   "mimetype": "text/x-python",
   "name": "python",
   "nbconvert_exporter": "python",
   "pygments_lexer": "ipython3",
   "version": "3.7.6"
  }
 },
 "nbformat": 4,
 "nbformat_minor": 4
}
