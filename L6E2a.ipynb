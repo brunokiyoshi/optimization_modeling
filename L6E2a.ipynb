{
 "cells": [
  {
   "cell_type": "markdown",
   "metadata": {},
   "source": [
    "# Assignment 6 - Exercise 2a\n",
    "Bruno Kiyoshi Ynumaru - 201805995"
   ]
  },
  {
   "cell_type": "code",
   "execution_count": 1,
   "metadata": {
    "collapsed": true,
    "jupyter": {
     "outputs_hidden": true,
     "source_hidden": true
    }
   },
   "outputs": [
    {
     "name": "stdout",
     "output_type": "stream",
     "text": [
      "A empresa Schwabe utiliza ouro e prata para produzir dois tipos de colares. O colar 1 requer 2g de\n",
      "ouro, 3g de prata e 1 hora de trabalho para confecção. O colar 2 requer 3g de ouro, 2g de prata e 2 horas\n",
      "de trabalho. Cada colar 1 vende por \\\\$400, e cada colar 2 vende por \\\\$500. Todos os colares produzidos\n",
      "são vendidos. Em estoque a empresa tem 100g de ouro e 120g de prata, e dispõe de 70 horas de mão de\n",
      "obra. Ouro extra pode ser comprado por um custo de \\\\$100/g. Encomendas já realizadas requerem que\n",
      "sejam produzidos pelo menos 20 colares 1 e 25 colares 2. Formule um modelo de programação linear\n",
      "para maximizar o lucro da empresa.\n",
      ".\n",
      "\n"
     ]
    }
   ],
   "source": [
    "prob_statement = \"\"\"A empresa Schwabe utiliza ouro e prata para produzir dois tipos de colares. O colar 1 requer 2g de\n",
    "ouro, 3g de prata e 1 hora de trabalho para confec¸c˜ao. O colar 2 requer 3g de ouro, 2g de prata e 2 horas\n",
    "de trabalho. Cada colar 1 vende por $400, e cada colar 2 vende por $500. Todos os colares produzidos\n",
    "s˜ao vendidos. Em estoque a empresa tem 100g de ouro e 120g de prata, e disp˜oe de 70 horas de m˜ao de\n",
    "obra. Ouro extra pode ser comprado por um custo de $100/g. Encomendas j´a realizadas requerem que\n",
    "sejam produzidos pelo menos 20 colares 1 e 25 colares 2. Formule um modelo de programa¸c˜ao linear\n",
    "para maximizar o lucro da empresa.\n",
    ".\n",
    "\"\"\"\n",
    "def fix_statement(str_statement):\n",
    "    list_replacements = [(\"¸c\", \"ç\"), \n",
    "                         (\"´a\", \"á\"),\n",
    "                         (\"´e\", \"é\"),\n",
    "                         (\"´ı\", \"í\"),\n",
    "                         (\"´o\", \"ó\"),\n",
    "                         (\"´u\", \"ú\"),\n",
    "                         (\"˜a\", \"ã\"),\n",
    "                         (\"˜o\", \"õ\"),\n",
    "                         (\"$\", \"\\\\\\$\")]\n",
    "    for replacement in list_replacements:\n",
    "        str_statement = str_statement.replace(replacement[0], replacement[1])\n",
    "    return str_statement\n",
    "prob_statement = fix_statement(prob_statement)\n",
    "print(prob_statement)"
   ]
  },
  {
   "cell_type": "markdown",
   "metadata": {},
   "source": [
    "A empresa Schwabe utiliza ouro e prata para produzir dois tipos de colares. O colar 1 requer 2g de\n",
    "ouro, 3g de prata e 1 hora de trabalho para confecção. O colar 2 requer 3g de ouro, 2g de prata e 2 horas\n",
    "de trabalho. Cada colar 1 vende por \\\\$400, e cada colar 2 vende por \\\\$500. Todos os colares produzidos\n",
    "são vendidos. Em estoque a empresa tem 100g de ouro e 120g de prata, e dispõe de 70 horas de mão de\n",
    "obra. Ouro extra pode ser comprado por um custo de \\\\$100/g. Encomendas já realizadas requerem que\n",
    "sejam produzidos pelo menos 20 colares 1 e 25 colares 2. Formule um modelo de programação linear\n",
    "para maximizar o lucro da empresa.\n",
    "."
   ]
  },
  {
   "cell_type": "code",
   "execution_count": 1,
   "metadata": {},
   "outputs": [],
   "source": [
    "import gurobipy as gp\n",
    "from gurobipy import GRB, Model"
   ]
  },
  {
   "cell_type": "code",
   "execution_count": 2,
   "metadata": {},
   "outputs": [
    {
     "name": "stdout",
     "output_type": "stream",
     "text": [
      "Restricted license - for non-production use only - expires 2022-01-13\n"
     ]
    }
   ],
   "source": [
    "# Create a new model\n",
    "m = Model(\"Schwabe\")"
   ]
  },
  {
   "cell_type": "code",
   "execution_count": 3,
   "metadata": {},
   "outputs": [],
   "source": [
    "# Create variables\n",
    "x1 = m.addVar(lb=0, vtype=GRB.CONTINUOUS, name=\"no. collars type 1\")\n",
    "x2 = m.addVar(lb=0, vtype=GRB.CONTINUOUS, name=\"no. collars type 2\")\n",
    "g = m.addVar(lb=0, vtype=GRB.CONTINUOUS, name=\"grams of purchased gold\")"
   ]
  },
  {
   "cell_type": "code",
   "execution_count": 4,
   "metadata": {},
   "outputs": [],
   "source": [
    "m.setObjective(x1 * 400 + x2 * 500 - g * 100,\n",
    "               GRB.MAXIMIZE)"
   ]
  },
  {
   "cell_type": "code",
   "execution_count": 5,
   "metadata": {},
   "outputs": [
    {
     "name": "stdout",
     "output_type": "stream",
     "text": [
      "Gurobi Optimizer version 9.1.1 build v9.1.1rc0 (win64)\n",
      "Thread count: 4 physical cores, 8 logical processors, using up to 8 threads\n",
      "Optimize a model with 5 rows, 3 columns and 9 nonzeros\n",
      "Model fingerprint: 0x9b865689\n",
      "Coefficient statistics:\n",
      "  Matrix range     [1e+00, 3e+00]\n",
      "  Objective range  [1e+02, 5e+02]\n",
      "  Bounds range     [0e+00, 0e+00]\n",
      "  RHS range        [2e+01, 1e+02]\n",
      "Presolve removed 5 rows and 3 columns\n",
      "Presolve time: 0.00s\n",
      "Presolve: All rows and columns removed\n",
      "Iteration    Objective       Primal Inf.    Dual Inf.      Time\n",
      "       0    1.9000000e+04   0.000000e+00   0.000000e+00      0s\n",
      "\n",
      "Solved in 0 iterations and 0.01 seconds\n",
      "Optimal objective  1.900000000e+04\n"
     ]
    }
   ],
   "source": [
    "# Add constraints\n",
    "m.addConstr(x1 * 2 + x2 * 3 <= 100 + g, 'Gold constraint')\n",
    "m.addConstr(x1 * 3 + x2 * 2  <= 120, 'Silver constraint')\n",
    "m.addConstr(x1 * 1 + x2 * 2 <= 70, 'MH constraint')\n",
    "m.addConstr(x1 >= 20, 'Min production of collar type 1')\n",
    "m.addConstr(x2 >= 25, 'Min production of collar type 2')\n",
    "\n",
    "m.optimize()"
   ]
  },
  {
   "cell_type": "code",
   "execution_count": 6,
   "metadata": {},
   "outputs": [
    {
     "name": "stdout",
     "output_type": "stream",
     "text": [
      "no. collars type 1, 20.0\n",
      "no. collars type 2, 25.0\n",
      "grams of purchased gold, 15.0\n",
      "Obj: 19000.0\n"
     ]
    }
   ],
   "source": [
    "for v in m.getVars():\n",
    "    print(f'{v.varName}, {v.x}')\n",
    "\n",
    "print(f'Obj: {m.objVal}')"
   ]
  },
  {
   "cell_type": "code",
   "execution_count": null,
   "metadata": {},
   "outputs": [],
   "source": []
  },
  {
   "cell_type": "code",
   "execution_count": null,
   "metadata": {},
   "outputs": [],
   "source": []
  },
  {
   "cell_type": "code",
   "execution_count": null,
   "metadata": {},
   "outputs": [],
   "source": []
  }
 ],
 "metadata": {
  "kernelspec": {
   "display_name": "Python 3",
   "language": "python",
   "name": "python3"
  },
  "language_info": {
   "codemirror_mode": {
    "name": "ipython",
    "version": 3
   },
   "file_extension": ".py",
   "mimetype": "text/x-python",
   "name": "python",
   "nbconvert_exporter": "python",
   "pygments_lexer": "ipython3",
   "version": "3.8.5"
  }
 },
 "nbformat": 4,
 "nbformat_minor": 4
}
