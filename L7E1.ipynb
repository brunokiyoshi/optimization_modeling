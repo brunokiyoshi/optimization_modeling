{
 "cells": [
  {
   "cell_type": "markdown",
   "metadata": {},
   "source": [
    "# Assignment 7 - Exercise 1\n",
    "Bruno Kiyoshi Ynumaru - 201805995"
   ]
  },
  {
   "cell_type": "code",
   "execution_count": 5,
   "metadata": {
    "collapsed": true,
    "jupyter": {
     "outputs_hidden": true,
     "source_hidden": true
    }
   },
   "outputs": [
    {
     "name": "stdout",
     "output_type": "stream",
     "text": [
      "A CELESC dispõe de três unidades geradoras de energia elétrica com capacidades mensais de 25, 40 e\n",
      "30 GWh para fornecer energia para três grandes municípios de Santa Catarina: São José, Florianópolis\n",
      "e Palhoça. A demanda média mensal desses municípios é 30, 35 e 25 GWh, respectivamente. O preço\n",
      "por GWh transmitido entre as unidades geradoras e as cidades é dado na tabela abaixo. A empresa\n",
      "estima que durante o mês de janeiro há um aumento no consumo de energia de 20% em todo o estado.\n",
      "Caso necessário, a CELESC pode comprar da empresa vizinha, COPEL, energia elétrica ao preço de\n",
      "\\\\$1000/GWh, com a única condição de que essa energia não será consumida na Palhoça. A CELESC\n",
      "precisa determinar qual o plano de distribuição e compra de energia mais barato para o mês de janeiro\n",
      "que supra a demanda destes três municípios. Considere ainda no problema que há perda de 10% na\n",
      "transmissão de energia pela rede.\n",
      "\n"
     ]
    }
   ],
   "source": [
    "prob_statement = \"\"\"A CELESC disp˜oe de trˆes unidades geradoras de energia el´etrica com capacidades mensais de 25, 40 e\n",
    "30 GWh para fornecer energia para trˆes grandes munic´ıpios de Santa Catarina: S˜ao Jos´e, Florian´opolis\n",
    "e Palho¸ca. A demanda m´edia mensal desses munic´ıpios ´e 30, 35 e 25 GWh, respectivamente. O pre¸co\n",
    "por GWh transmitido entre as unidades geradoras e as cidades ´e dado na tabela abaixo. A empresa\n",
    "estima que durante o mˆes de janeiro h´a um aumento no consumo de energia de 20% em todo o estado.\n",
    "Caso necess´ario, a CELESC pode comprar da empresa vizinha, COPEL, energia el´etrica ao pre¸co de\n",
    "$1000/GWh, com a ´unica condi¸c˜ao de que essa energia n˜ao ser´a consumida na Palho¸ca. A CELESC\n",
    "precisa determinar qual o plano de distribui¸c˜ao e compra de energia mais barato para o mˆes de janeiro\n",
    "que supra a demanda destes trˆes munic´ıpios. Considere ainda no problema que h´a perda de 10% na\n",
    "transmiss˜ao de energia pela rede.\n",
    "\"\"\"\n",
    "def fix_statement(str_statement):\n",
    "    list_replacements = [(\"¸c\", \"ç\"), \n",
    "                         (\"´a\", \"á\"),\n",
    "                         (\"´e\", \"é\"),\n",
    "                         (\"´ı\", \"í\"),\n",
    "                         (\"´o\", \"ó\"),\n",
    "                         (\"´u\", \"ú\"),\n",
    "                         (\"˜a\", \"ã\"),\n",
    "                         (\"˜o\", \"õ\"),\n",
    "                         (\"ˆe\", \"ê\"),\n",
    "                         (\"$\", \"\\\\\\$\")]\n",
    "    for replacement in list_replacements:\n",
    "        str_statement = str_statement.replace(replacement[0], replacement[1])\n",
    "    return str_statement\n",
    "prob_statement = fix_statement(prob_statement)\n",
    "print(prob_statement)"
   ]
  },
  {
   "cell_type": "markdown",
   "metadata": {},
   "source": [
    "A CELESC dispõe de três unidades geradoras de energia elétrica com capacidades mensais de 25, 40 e\n",
    "30 GWh para fornecer energia para três grandes municípios de Santa Catarina: São José, Florianópolis\n",
    "e Palhoça. A demanda média mensal desses municípios é 30, 35 e 25 GWh, respectivamente. O preço\n",
    "por GWh transmitido entre as unidades geradoras e as cidades é dado na tabela abaixo. A empresa\n",
    "estima que durante o mês de janeiro há um aumento no consumo de energia de 20% em todo o estado.\n",
    "Caso necessário, a CELESC pode comprar da empresa vizinha, COPEL, energia elétrica ao preço de\n",
    "\\\\$1000/GWh, com a única condição de que essa energia não será consumida na Palhoça. A CELESC\n",
    "precisa determinar qual o plano de distribuição e compra de energia mais barato para o mês de janeiro\n",
    "que supra a demanda destes três municípios. Considere ainda no problema que há perda de 10% na\n",
    "transmissão de energia pela rede.\n",
    "\n",
    "|Gerador| São José | Florianópolis | Palhoça|\n",
    "| --- | --- | --- | --- |\n",
    "|1| \\\\$600| \\\\$700| \\\\$400|\n",
    "|2| \\\\$320 |\\\\$300 |\\\\$350 |\n",
    "|3| \\\\$500| \\\\$480| \\\\$450|"
   ]
  },
  {
   "cell_type": "code",
   "execution_count": 1,
   "metadata": {},
   "outputs": [],
   "source": [
    "import gurobipy as gp\n",
    "from gurobipy import GRB, Model"
   ]
  },
  {
   "cell_type": "code",
   "execution_count": 2,
   "metadata": {},
   "outputs": [
    {
     "name": "stdout",
     "output_type": "stream",
     "text": [
      "Restricted license - for non-production use only - expires 2022-01-13\n"
     ]
    }
   ],
   "source": [
    "# Create a new model\n",
    "m = Model(\"CELESC\")"
   ]
  },
  {
   "cell_type": "code",
   "execution_count": 3,
   "metadata": {},
   "outputs": [],
   "source": [
    "# Create variables\n",
    "x1_SJ = m.addVar(lb=0, vtype=GRB.CONTINUOUS, name=\"Energy from 1 to SJ\")\n",
    "x1_FLN = m.addVar(lb=0, vtype=GRB.CONTINUOUS, name=\"Energy from 1 to FLN\")\n",
    "x1_P = m.addVar(lb=0, vtype=GRB.CONTINUOUS, name=\"Energy from 1 to P\")\n",
    "\n",
    "x2_SJ = m.addVar(lb=0, vtype=GRB.CONTINUOUS, name=\"Energy from 2 to SJ\")\n",
    "x2_FLN = m.addVar(lb=0, vtype=GRB.CONTINUOUS, name=\"Energy from 2 to FLN\")\n",
    "x2_P = m.addVar(lb=0, vtype=GRB.CONTINUOUS, name=\"Energy from 2 to P\")\n",
    "\n",
    "x3_SJ = m.addVar(lb=0, vtype=GRB.CONTINUOUS, name=\"Energy from 3 to SJ\")\n",
    "x3_FLN = m.addVar(lb=0, vtype=GRB.CONTINUOUS, name=\"Energy from 3 to FLN\")\n",
    "x3_P = m.addVar(lb=0, vtype=GRB.CONTINUOUS, name=\"Energy from 3 to P\")\n",
    "\n",
    "COPEL_SJ = m.addVar(lb=0, vtype=GRB.CONTINUOUS, name=\"Energy from COPEL to SJ\")\n",
    "COPEL_FLN = m.addVar(lb=0, vtype=GRB.CONTINUOUS, name=\"Energy from COPEL to FLN\")\n"
   ]
  },
  {
   "cell_type": "code",
   "execution_count": 4,
   "metadata": {},
   "outputs": [],
   "source": [
    "m.setObjective(x1_SJ * 600 + x1_FLN * 700 + x1_P * 400 + \n",
    "               x2_SJ * 320 + x2_FLN * 300 + x2_P * 350 +\n",
    "               x3_SJ * 500 + x3_FLN * 480 + x3_P * 450 +\n",
    "               COPEL_SJ * 1000 + COPEL_FLN * 1000,\n",
    "               GRB.MINIMIZE)"
   ]
  },
  {
   "cell_type": "code",
   "execution_count": 5,
   "metadata": {},
   "outputs": [
    {
     "name": "stdout",
     "output_type": "stream",
     "text": [
      "Gurobi Optimizer version 9.1.1 build v9.1.1rc0 (win64)\n",
      "Thread count: 4 physical cores, 8 logical processors, using up to 8 threads\n",
      "Optimize a model with 6 rows, 11 columns and 20 nonzeros\n",
      "Model fingerprint: 0x45d2c47a\n",
      "Coefficient statistics:\n",
      "  Matrix range     [9e-01, 1e+00]\n",
      "  Objective range  [3e+02, 1e+03]\n",
      "  Bounds range     [0e+00, 0e+00]\n",
      "  RHS range        [3e+01, 4e+01]\n",
      "Presolve time: 0.03s\n",
      "Presolved: 6 rows, 11 columns, 20 nonzeros\n",
      "\n",
      "Iteration    Objective       Primal Inf.    Dual Inf.      Time\n",
      "       0    0.0000000e+00   1.080000e+02   0.000000e+00      0s\n",
      "       9    6.1450000e+04   0.000000e+00   0.000000e+00      0s\n",
      "\n",
      "Solved in 9 iterations and 0.04 seconds\n",
      "Optimal objective  6.145000000e+04\n"
     ]
    }
   ],
   "source": [
    "# Add constraints\n",
    "m.addConstr(x1_SJ + x1_FLN + x1_P <= 25, 'Max output 1')\n",
    "m.addConstr(x2_SJ + x2_FLN + x2_P <= 40, 'Max output 2')\n",
    "m.addConstr(x3_SJ + x3_FLN + x3_P <= 30, 'Max output 3')\n",
    "\n",
    "m.addConstr(0.9 * (x1_SJ + x2_SJ + x3_SJ + COPEL_SJ) >= 30 * 1.2, 'Min input SJ')\n",
    "m.addConstr(0.9 * (x1_FLN + x2_FLN + x3_FLN + COPEL_FLN) >= 35 * 1.2, 'Min input FLN')\n",
    "m.addConstr(0.9 * (x1_P + x2_P + x3_P) >= 25 * 1.2, 'Min input P')\n",
    "\n",
    "m.optimize()"
   ]
  },
  {
   "cell_type": "code",
   "execution_count": 6,
   "metadata": {},
   "outputs": [
    {
     "name": "stdout",
     "output_type": "stream",
     "text": [
      "Energy from 1 to SJ, 0.0\n",
      "Energy from 1 to FLN, 0.0\n",
      "Energy from 1 to P, 25.0\n",
      "Energy from 2 to SJ, 0.0\n",
      "Energy from 2 to FLN, 40.0\n",
      "Energy from 2 to P, 0.0\n",
      "Energy from 3 to SJ, 14.999999999999998\n",
      "Energy from 3 to FLN, 6.666666666666666\n",
      "Energy from 3 to P, 8.333333333333334\n",
      "Energy from COPEL to SJ, 25.0\n",
      "Energy from COPEL to FLN, 0.0\n",
      "Obj: 61450.0\n"
     ]
    }
   ],
   "source": [
    "for v in m.getVars():\n",
    "    print(f'{v.varName}, {v.x}')\n",
    "\n",
    "print(f'Obj: {m.objVal}')"
   ]
  },
  {
   "cell_type": "code",
   "execution_count": null,
   "metadata": {},
   "outputs": [],
   "source": []
  },
  {
   "cell_type": "code",
   "execution_count": null,
   "metadata": {},
   "outputs": [],
   "source": []
  },
  {
   "cell_type": "code",
   "execution_count": null,
   "metadata": {},
   "outputs": [],
   "source": []
  }
 ],
 "metadata": {
  "kernelspec": {
   "display_name": "Python 3",
   "language": "python",
   "name": "python3"
  },
  "language_info": {
   "codemirror_mode": {
    "name": "ipython",
    "version": 3
   },
   "file_extension": ".py",
   "mimetype": "text/x-python",
   "name": "python",
   "nbconvert_exporter": "python",
   "pygments_lexer": "ipython3",
   "version": "3.8.5"
  }
 },
 "nbformat": 4,
 "nbformat_minor": 4
}
