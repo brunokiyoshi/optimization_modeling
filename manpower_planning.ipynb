{
 "cells": [
  {
   "cell_type": "markdown",
   "metadata": {},
   "source": [
    "# Final Project - Manpower Planning\n",
    "Bruno Kiyoshi Ynumaru - 201805995"
   ]
  },
  {
   "cell_type": "code",
   "execution_count": 1,
   "metadata": {},
   "outputs": [],
   "source": [
    "import gurobipy as gp\n",
    "from gurobipy import GRB, Model"
   ]
  },
  {
   "cell_type": "code",
   "execution_count": 7,
   "metadata": {},
   "outputs": [],
   "source": [
    "# Create a new model\n",
    "m = Model(\"manpower_planning\")"
   ]
  },
  {
   "cell_type": "code",
   "execution_count": 13,
   "metadata": {},
   "outputs": [],
   "source": [
    "# Create variables\n",
    "# Initial conditions\n",
    "SK0 = m.addVar(lb=0, vtype=GRB.INTEGER, name=\"no. skilled employees in year 0\")\n",
    "SS0 = m.addVar(lb=0, vtype=GRB.INTEGER, name=\"no. semi-skilled employees in year 0\")\n",
    "US0 = m.addVar(lb=0, vtype=GRB.INTEGER, name=\"no. unskilled employees in year 0\")\n",
    "\n",
    "# Changes from year 0 to year 1\n",
    "recrSK0 = m.addVar(lb=0, vtype=GRB.INTEGER, name=\"no. recruited skilled employees in year 0\")\n",
    "recrSS0 = m.addVar(lb=0, vtype=GRB.INTEGER, name=\"no. recruited semi-skilled employees in year 0\")\n",
    "recrUS0 = m.addVar(lb=0, vtype=GRB.INTEGER, name=\"no. recruited unskilled employees in year 0\")\n",
    "\n",
    "retrSS0 = m.addVar(lb=0, vtype=GRB.INTEGER, name=\"no. retrained semi-skilled employees in year 0\")\n",
    "retrUS0 = m.addVar(lb=0, vtype=GRB.INTEGER, name=\"no. retrained unskilled employees in year 0\")\n",
    "\n",
    "downSK0 = m.addVar(lb=0, vtype=GRB.INTEGER, name=\"no. downgraded skilled employees in year 0\")\n",
    "downSS0 = m.addVar(lb=0, vtype=GRB.INTEGER, name=\"no. downgraded semi-skilled employees in year 0\")\n",
    "\n",
    "shortSK0 = m.addVar(lb=0, vtype=GRB.INTEGER, name=\"no. recruited short-time skilled employees in year 0\")\n",
    "shortSS0 = m.addVar(lb=0, vtype=GRB.INTEGER, name=\"no. recruited short-time semi-skilled employees in year 0\")\n",
    "shortUS0 = m.addVar(lb=0, vtype=GRB.INTEGER, name=\"no. recruited short-time unskilled employees in year 0\")\n",
    "\n",
    "# Year 1 conditions\n",
    "SK1 = m.addVar(lb=0, vtype=GRB.INTEGER, name=\"no. skilled employees in year 1\")\n",
    "SS1 = m.addVar(lb=0, vtype=GRB.INTEGER, name=\"no. semi-skilled employees in year 1\")\n",
    "US1 = m.addVar(lb=0, vtype=GRB.INTEGER, name=\"no. unskilled employees in year 1\")\n",
    "\n",
    "# Changes from year 1 to year 2\n",
    "recrSK1 = m.addVar(lb=0, vtype=GRB.INTEGER, name=\"no. recruited skilled employees in year 1\")\n",
    "recrSS1 = m.addVar(lb=0, vtype=GRB.INTEGER, name=\"no. recruited semi-skilled employees in year 1\")\n",
    "recrUS1 = m.addVar(lb=0, vtype=GRB.INTEGER, name=\"no. recruited unskilled employees in year 1\")\n",
    "\n",
    "retrSS1 = m.addVar(lb=0, vtype=GRB.INTEGER, name=\"no. retrained semi-skilled employees in year 1\")\n",
    "retrUS1 = m.addVar(lb=0, vtype=GRB.INTEGER, name=\"no. retrained unskilled employees in year 1\")\n",
    "\n",
    "downSK1 = m.addVar(lb=0, vtype=GRB.INTEGER, name=\"no. downgraded skilled employees in year 1\")\n",
    "downSS1 = m.addVar(lb=0, vtype=GRB.INTEGER, name=\"no. downgraded semi-skilled employees in year 1\")\n",
    "\n",
    "shortSK1 = m.addVar(lb=0, vtype=GRB.INTEGER, name=\"no. recruited short-time skilled employees in year 1\")\n",
    "shortSS1 = m.addVar(lb=0, vtype=GRB.INTEGER, name=\"no. recruited short-time semi-skilled employees in year 1\")\n",
    "shortUS1 = m.addVar(lb=0, vtype=GRB.INTEGER, name=\"no. recruited short-time unskilled employees in year 1\")\n",
    "\n",
    "# Year 2 conditions\n",
    "SK2 = m.addVar(lb=0, vtype=GRB.INTEGER, name=\"no. skilled employees in year 2\")\n",
    "SS2 = m.addVar(lb=0, vtype=GRB.INTEGER, name=\"no. semi-skilled employees in year 2\")\n",
    "US2 = m.addVar(lb=0, vtype=GRB.INTEGER, name=\"no. unskilled employees in year 2\")\n",
    "\n",
    "# Changes from year 2 to year 3\n",
    "recrSK2 = m.addVar(lb=0, vtype=GRB.INTEGER, name=\"no. recruited skilled employees in year 2\")\n",
    "recrSS2 = m.addVar(lb=0, vtype=GRB.INTEGER, name=\"no. recruited semi-skilled employees in year 2\")\n",
    "recrUS2 = m.addVar(lb=0, vtype=GRB.INTEGER, name=\"no. recruited unskilled employees in year 2\")\n",
    "\n",
    "retrSS2 = m.addVar(lb=0, vtype=GRB.INTEGER, name=\"no. retrained semi-skilled employees in year 2\")\n",
    "retrUS2 = m.addVar(lb=0, vtype=GRB.INTEGER, name=\"no. retrained unskilled employees in year 2\")\n",
    "\n",
    "downSK2 = m.addVar(lb=0, vtype=GRB.INTEGER, name=\"no. downgraded skilled employees in year 2\")\n",
    "downSS2 = m.addVar(lb=0, vtype=GRB.INTEGER, name=\"no. downgraded semi-skilled employees in year 2\")\n",
    "\n",
    "shortSK2 = m.addVar(lb=0, vtype=GRB.INTEGER, name=\"no. recruited short-time skilled employees in year 2\")\n",
    "shortSS2 = m.addVar(lb=0, vtype=GRB.INTEGER, name=\"no. recruited short-time semi-skilled employees in year 2\")\n",
    "shortUS2 = m.addVar(lb=0, vtype=GRB.INTEGER, name=\"no. recruited short-time unskilled employees in year 2\")\n",
    "\n",
    "# Year 3 conditions\n",
    "SK3 = m.addVar(lb=0, vtype=GRB.INTEGER, name=\"no. skilled employees in year 3\")\n",
    "SS3 = m.addVar(lb=0, vtype=GRB.INTEGER, name=\"no. semi-skilled employees in year 3\")\n",
    "US3 = m.addVar(lb=0, vtype=GRB.INTEGER, name=\"no. unskilled employees in year 3\")\n"
   ]
  },
  {
   "cell_type": "code",
   "execution_count": 9,
   "metadata": {},
   "outputs": [],
   "source": [
    "m.setObjective(x1 * 400 + x2 * 500 - g * 100,\n",
    "               GRB.MAXIMIZE)"
   ]
  },
  {
   "cell_type": "code",
   "execution_count": 10,
   "metadata": {},
   "outputs": [
    {
     "name": "stdout",
     "output_type": "stream",
     "text": [
      "Gurobi Optimizer version 9.1.1 build v9.1.1rc0 (win64)\n",
      "Thread count: 4 physical cores, 8 logical processors, using up to 8 threads\n",
      "Optimize a model with 5 rows, 3 columns and 9 nonzeros\n",
      "Model fingerprint: 0x6939fa8f\n",
      "Coefficient statistics:\n",
      "  Matrix range     [1e+00, 3e+00]\n",
      "  Objective range  [1e+02, 5e+02]\n",
      "  Bounds range     [0e+00, 0e+00]\n",
      "  RHS range        [2e+01, 1e+02]\n",
      "Presolve removed 3 rows and 1 columns\n",
      "Presolve time: 0.01s\n",
      "Presolved: 2 rows, 2 columns, 4 nonzeros\n",
      "\n",
      "Iteration    Objective       Primal Inf.    Dual Inf.      Time\n",
      "       0    2.0000000e+04   2.493500e+00   0.000000e+00      0s\n",
      "       2    1.9400000e+04   0.000000e+00   0.000000e+00      0s\n",
      "\n",
      "Solved in 2 iterations and 0.01 seconds\n",
      "Optimal objective  1.940000000e+04\n"
     ]
    }
   ],
   "source": [
    "# Add constraints\n",
    "m.addConstr(x1 * 2 + x2 * 3 <= 100 + g, 'Gold constraint')\n",
    "m.addConstr(x1 * 3 + x2 * 2  <= 120, 'Silver constraint')\n",
    "m.addConstr(x1 * 1 + x2 * 2 <= 70, 'MH constraint')\n",
    "m.addConstr(x1 >= 20, 'Min production of collar type 1')\n",
    "m.addConstr(x2 >= 23, 'Min production of collar type 2')\n",
    "\n",
    "m.optimize()"
   ]
  },
  {
   "cell_type": "code",
   "execution_count": 11,
   "metadata": {},
   "outputs": [
    {
     "name": "stdout",
     "output_type": "stream",
     "text": [
      "no. collars type 1, 24.0\n",
      "no. collars type 2, 23.0\n",
      "grams of purchased gold, 17.0\n",
      "Obj: 19400.0\n"
     ]
    }
   ],
   "source": [
    "for v in m.getVars():\n",
    "    print(f'{v.varName}, {v.x}')\n",
    "\n",
    "print(f'Obj: {m.objVal}')"
   ]
  },
  {
   "cell_type": "code",
   "execution_count": null,
   "metadata": {},
   "outputs": [],
   "source": []
  },
  {
   "cell_type": "code",
   "execution_count": null,
   "metadata": {},
   "outputs": [],
   "source": []
  },
  {
   "cell_type": "code",
   "execution_count": null,
   "metadata": {},
   "outputs": [],
   "source": []
  }
 ],
 "metadata": {
  "kernelspec": {
   "display_name": "Python 3",
   "language": "python",
   "name": "python3"
  },
  "language_info": {
   "codemirror_mode": {
    "name": "ipython",
    "version": 3
   },
   "file_extension": ".py",
   "mimetype": "text/x-python",
   "name": "python",
   "nbconvert_exporter": "python",
   "pygments_lexer": "ipython3",
   "version": "3.8.5"
  }
 },
 "nbformat": 4,
 "nbformat_minor": 4
}
